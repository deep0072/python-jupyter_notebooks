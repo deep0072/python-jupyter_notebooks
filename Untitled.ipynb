{
 "cells": [
  {
   "cell_type": "markdown",
   "id": "4d0726d2",
   "metadata": {},
   "source": [
    "# Decorators in Python are essentially functions that add functionality to an existing function in Python without changing the structure of the function itself"
   ]
  },
  {
   "cell_type": "code",
   "execution_count": null,
   "id": "8dd76bf4",
   "metadata": {},
   "outputs": [],
   "source": [
    "def lower_decorator(function):  # here function is the parameter on which we want to use decorator\n",
    "    def wrapper():     #it is the wrapper function that is applied all methods or desired process \n",
    "        func = function()\n",
    "        string_lower_case = func.lower()\n",
    "        return string_lower_case\n",
    "    return wrapper"
   ]
  },
  {
   "cell_type": "code",
   "execution_count": 10,
   "id": "dc32419f",
   "metadata": {},
   "outputs": [],
   "source": [
    "def lower_decorator(function):\n",
    "    def wrapper():\n",
    "        func = function()\n",
    "        string_lower_case = func.lower()\n",
    "        return string_lower_case\n",
    "    return wrapper"
   ]
  },
  {
   "cell_type": "code",
   "execution_count": 11,
   "id": "a1c5e2ee",
   "metadata": {},
   "outputs": [],
   "source": [
    "def Name_Age():\n",
    "    return \"Deepak's Age 12\""
   ]
  },
  {
   "cell_type": "code",
   "execution_count": 12,
   "id": "e7423fc8",
   "metadata": {},
   "outputs": [
    {
     "name": "stdout",
     "output_type": "stream",
     "text": [
      "Deepak's Age 12\n"
     ]
    }
   ],
   "source": [
    "print(Name_Age())"
   ]
  },
  {
   "cell_type": "code",
   "execution_count": 13,
   "id": "58058d57",
   "metadata": {},
   "outputs": [],
   "source": [
    "@lower_decorator\n",
    "def Name_Age():\n",
    "    return \"Deepak's Age 12\"\n"
   ]
  },
  {
   "cell_type": "code",
   "execution_count": 14,
   "id": "09b66ae0",
   "metadata": {},
   "outputs": [
    {
     "name": "stdout",
     "output_type": "stream",
     "text": [
      "deepak's age 12\n"
     ]
    }
   ],
   "source": [
    "print(Name_Age())"
   ]
  },
  {
   "cell_type": "code",
   "execution_count": 19,
   "id": "646f974b",
   "metadata": {},
   "outputs": [
    {
     "name": "stdout",
     "output_type": "stream",
     "text": [
      "Deepak and SOnu's Age 12\n"
     ]
    }
   ],
   "source": [
    "def lower_decorator(function):  # here function is the parameter on which we want to use decorator\n",
    "    def wrapper(arg1,arg2):     #it also takes argument\n",
    "        arg1_lower = arg1.lower()\n",
    "        arg2_lower = arg2.lower()\n",
    "        func = function(arg1_lower,arg2_lower)\n",
    "      \n",
    "        return func\n",
    "    return wrapper\n",
    "\n",
    "\n",
    "\n",
    "\n",
    "\n",
    "\n",
    "\n",
    "def Name_Age(name1, name2):\n",
    "    return f\"{name1} and {name2}'s Age 12\"\n",
    "\n",
    "print(Name_Age(\"Deepak\", \"SOnu\"))"
   ]
  },
  {
   "cell_type": "code",
   "execution_count": 20,
   "id": "642197c2",
   "metadata": {},
   "outputs": [
    {
     "name": "stdout",
     "output_type": "stream",
     "text": [
      "deepak and sonu's Age 12\n"
     ]
    }
   ],
   "source": [
    "@lower_decorator\n",
    "def Name_Age(name1, name2):\n",
    "    return f\"{name1} and {name2}'s Age 12\"\n",
    "print(Name_Age(\"Deepak\", \"SOnu\"))\n",
    "\n",
    "\n"
   ]
  },
  {
   "cell_type": "markdown",
   "id": "ce7a4de4",
   "metadata": {},
   "source": [
    "# What are Dict and List comprehensions?"
   ]
  },
  {
   "cell_type": "markdown",
   "id": "c455a356",
   "metadata": {},
   "source": [
    "**Python comprehensions, like decorators, are syntactic sugar constructs that help build altered and filtered lists, dictionaries, or sets from a given list, dictionary, or set. Using comprehensions saves a lot of time and code that might be considerably more verbose (containing more lines of code). Let's check out some examples, where comprehensions can be truly beneficial**"
   ]
  },
  {
   "cell_type": "code",
   "execution_count": 33,
   "id": "2bbb77be",
   "metadata": {},
   "outputs": [
    {
     "data": {
      "text/plain": [
       "{3: 9, 4: 16, 5: 25}"
      ]
     },
     "execution_count": 33,
     "metadata": {},
     "output_type": "execute_result"
    }
   ],
   "source": [
    "my_list = [3,4,5]\n",
    "\n",
    "output = {x:x**2 for x in my_list}\n",
    "output"
   ]
  },
  {
   "cell_type": "markdown",
   "id": "c42cac56",
   "metadata": {},
   "source": [
    "# Combining multiple lists into one\n"
   ]
  },
  {
   "cell_type": "code",
   "execution_count": 38,
   "id": "184ed7d3",
   "metadata": {},
   "outputs": [
    {
     "data": {
      "text/plain": [
       "[7, 16, 27]"
      ]
     },
     "execution_count": 38,
     "metadata": {},
     "output_type": "execute_result"
    }
   ],
   "source": [
    "a = [1, 2, 3]\n",
    "b = [7, 8, 9]\n",
    "[(x*y) for (x,y) in zip(a,b)]  # parallel iterators\n",
    "# output => [8, 10, 12]\n"
   ]
  },
  {
   "cell_type": "code",
   "execution_count": 35,
   "id": "ce59450b",
   "metadata": {},
   "outputs": [
    {
     "data": {
      "text/plain": [
       "[(1, 7), (1, 8), (1, 9), (2, 7), (2, 8), (2, 9), (3, 7), (3, 8), (3, 9)]"
      ]
     },
     "execution_count": 35,
     "metadata": {},
     "output_type": "execute_result"
    }
   ],
   "source": [
    "[(x,y) for x in a for y in b]    # nested iterators\n",
    "# output => [(1, 7), (1, 8), (1, 9), (2, 7), (2, 8), (2, 9), (3, 7), (3, 8), (3, 9)] "
   ]
  },
  {
   "cell_type": "code",
   "execution_count": 55,
   "id": "73d0e32c",
   "metadata": {},
   "outputs": [],
   "source": [
    "my_list = [34,5,6]\n",
    "y = map(lambda x:x+5, my_list)\n",
    "\n"
   ]
  },
  {
   "cell_type": "code",
   "execution_count": 56,
   "id": "850999bd",
   "metadata": {},
   "outputs": [
    {
     "name": "stdout",
     "output_type": "stream",
     "text": [
      "[39, 10, 11]\n"
     ]
    }
   ],
   "source": [
    "print(list(y))"
   ]
  },
  {
   "cell_type": "markdown",
   "id": "69938235",
   "metadata": {},
   "source": [
    "# shallow copy and Deep copy\n",
    "\n",
    "\n",
    "** shallow copy changes reflect in original one also while in deep copy changes does not affect the original one **"
   ]
  },
  {
   "cell_type": "code",
   "execution_count": 58,
   "id": "33d3998f",
   "metadata": {},
   "outputs": [
    {
     "name": "stdout",
     "output_type": "stream",
     "text": [
      "list2: [1, 2, [3, 5, 6], 7]\n",
      "list1: [1, 2, [3, 5, 6], 4]\n"
     ]
    }
   ],
   "source": [
    "from copy import copy, deepcopy\n",
    "list_1 = [1, 2, [3, 5], 4]\n",
    "## shallow copy\n",
    "list_2 = copy(list_1) \n",
    "list_2[3] = 7\n",
    "list_2[2].append(6)\n",
    "print(\"list2:\",list_2)    # output => [1, 2, [3, 5, 6], 7]\n",
    "print(\"list1:\",  list_1)    # output => [1, 2, [3, 5, 6], 4]\n"
   ]
  },
  {
   "cell_type": "code",
   "execution_count": 59,
   "id": "ffbcffa0",
   "metadata": {},
   "outputs": [
    {
     "name": "stdout",
     "output_type": "stream",
     "text": [
      "list_1: [1, 2, [3, 5, 6], 4]\n",
      "list_3: [1, 2, [3, 5, 6, 7], 8]\n"
     ]
    }
   ],
   "source": [
    "## deep copy\n",
    "list_3 = deepcopy(list_1)\n",
    "list_3[3] = 8\n",
    "list_3[2].append(7)\n",
    "\n",
    "print(\"list_1:\", list_1)\n",
    "print(\"list_3:\", list_3)"
   ]
  },
  {
   "cell_type": "markdown",
   "id": "f20f8683",
   "metadata": {},
   "source": [
    "# generators in Python"
   ]
  },
  {
   "cell_type": "code",
   "execution_count": null,
   "id": "d1127489",
   "metadata": {},
   "outputs": [],
   "source": []
  }
 ],
 "metadata": {
  "kernelspec": {
   "display_name": "Python 3 (ipykernel)",
   "language": "python",
   "name": "python3"
  },
  "language_info": {
   "codemirror_mode": {
    "name": "ipython",
    "version": 3
   },
   "file_extension": ".py",
   "mimetype": "text/x-python",
   "name": "python",
   "nbconvert_exporter": "python",
   "pygments_lexer": "ipython3",
   "version": "3.7.10"
  }
 },
 "nbformat": 4,
 "nbformat_minor": 5
}
