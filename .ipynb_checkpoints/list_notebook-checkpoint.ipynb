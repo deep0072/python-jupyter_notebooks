{
 "cells": [
  {
   "cell_type": "markdown",
   "id": "41b00026",
   "metadata": {},
   "source": [
    "# list with its functions and methods"
   ]
  },
  {
   "cell_type": "code",
   "execution_count": 1,
   "id": "d5cd060b",
   "metadata": {},
   "outputs": [],
   "source": [
    "currencies = ['Dollar', 'Euro', 'Pound']"
   ]
  },
  {
   "cell_type": "markdown",
   "id": "515a19d0",
   "metadata": {},
   "source": [
    " # append the item in list "
   ]
  },
  {
   "cell_type": "code",
   "execution_count": 6,
   "id": "17c4682e",
   "metadata": {},
   "outputs": [
    {
     "data": {
      "text/plain": [
       "['Dollar', 'Euro', 'Pound', 'Yen', 'Yen', 'Yen']"
      ]
     },
     "execution_count": 6,
     "metadata": {},
     "output_type": "execute_result"
    }
   ],
   "source": [
    "currencies.append('Yen')\n",
    "currencies"
   ]
  },
  {
   "cell_type": "markdown",
   "id": "f95874d6",
   "metadata": {},
   "source": [
    "# Python List index()\n",
    "\n",
    "#index () method returns the index of the specified element in the list."
   ]
  },
  {
   "cell_type": "code",
   "execution_count": 8,
   "id": "673a9b2b",
   "metadata": {},
   "outputs": [
    {
     "data": {
      "text/plain": [
       "1"
      ]
     },
     "execution_count": 8,
     "metadata": {},
     "output_type": "execute_result"
    }
   ],
   "source": [
    "animals = ['cat', 'dog', 'rabbit', 'horse']\n",
    "\n",
    "# get the index of 'dog'\n",
    "index = animals.index('dog')\n",
    "index"
   ]
  },
  {
   "cell_type": "markdown",
   "id": "3e6befbe",
   "metadata": {},
   "source": [
    "# list.index(element, start, end)"
   ]
  },
  {
   "cell_type": "code",
   "execution_count": 9,
   "id": "fa9de0a6",
   "metadata": {},
   "outputs": [
    {
     "name": "stdout",
     "output_type": "stream",
     "text": [
      "The index of e: 1\n",
      "The index of i: 6\n"
     ]
    },
    {
     "ename": "ValueError",
     "evalue": "'i' is not in list",
     "output_type": "error",
     "traceback": [
      "\u001b[1;31m---------------------------------------------------------------------------\u001b[0m",
      "\u001b[1;31mValueError\u001b[0m                                Traceback (most recent call last)",
      "\u001b[1;32m~\\AppData\\Local\\Temp/ipykernel_19068/3041137897.py\u001b[0m in \u001b[0;36m<module>\u001b[1;34m\u001b[0m\n\u001b[0;32m     13\u001b[0m \u001b[1;33m\u001b[0m\u001b[0m\n\u001b[0;32m     14\u001b[0m \u001b[1;31m# 'i' between 3rd and 5th index is searched\u001b[0m\u001b[1;33m\u001b[0m\u001b[1;33m\u001b[0m\u001b[1;33m\u001b[0m\u001b[0m\n\u001b[1;32m---> 15\u001b[1;33m \u001b[0mindex\u001b[0m \u001b[1;33m=\u001b[0m \u001b[0malphabets\u001b[0m\u001b[1;33m.\u001b[0m\u001b[0mindex\u001b[0m\u001b[1;33m(\u001b[0m\u001b[1;34m'i'\u001b[0m\u001b[1;33m,\u001b[0m \u001b[1;36m3\u001b[0m\u001b[1;33m,\u001b[0m \u001b[1;36m5\u001b[0m\u001b[1;33m)\u001b[0m   \u001b[1;31m# Error!\u001b[0m\u001b[1;33m\u001b[0m\u001b[1;33m\u001b[0m\u001b[0m\n\u001b[0m\u001b[0;32m     16\u001b[0m \u001b[1;33m\u001b[0m\u001b[0m\n\u001b[0;32m     17\u001b[0m \u001b[0mprint\u001b[0m\u001b[1;33m(\u001b[0m\u001b[1;34m'The index of i:'\u001b[0m\u001b[1;33m,\u001b[0m \u001b[0mindex\u001b[0m\u001b[1;33m)\u001b[0m\u001b[1;33m\u001b[0m\u001b[1;33m\u001b[0m\u001b[0m\n",
      "\u001b[1;31mValueError\u001b[0m: 'i' is not in list"
     ]
    }
   ],
   "source": [
    "# alphabets list\n",
    "alphabets = ['a', 'e', 'i', 'o', 'g', 'l', 'i', 'u']\n",
    "\n",
    "# index of 'i' in alphabets\n",
    "index = alphabets.index('e')   # 1\n",
    "\n",
    "print('The index of e:', index)\n",
    "\n",
    "# 'i' after the 4th index is searched\n",
    "index = alphabets.index('i', 4)   # 6\n",
    "\n",
    "print('The index of i:', index)\n",
    "\n",
    "# 'i' between 3rd and 5th index is searched\n",
    "index = alphabets.index('i', 3, 5)   # Error!\n",
    "\n",
    "print('The index of i:', index)\n",
    "\n",
    "\n",
    "\n",
    "\n",
    "\n",
    "\n",
    "\n",
    "\n",
    "\n",
    "\n",
    "\n"
   ]
  },
  {
   "cell_type": "code",
   "execution_count": 10,
   "id": "d7741524",
   "metadata": {
    "scrolled": true
   },
   "outputs": [
    {
     "name": "stdout",
     "output_type": "stream",
     "text": [
      "List after extend(): [1, 4, 2, 3, 5]\n"
     ]
    }
   ],
   "source": [
    "# create a list\n",
    "prime_numbers = [2, 3, 5]\n",
    "\n",
    "# create another list\n",
    "numbers = [1, 4]\n",
    "\n",
    "# add all elements of prime_numbers to numbers\n",
    "numbers.extend(prime_numbers)\n",
    "\n",
    "\n",
    "print('List after extend():', numbers)\n",
    "\n",
    "# Output: List after extend(): [1, 4, 2, 3, 5]"
   ]
  },
  {
   "cell_type": "markdown",
   "id": "989e3725",
   "metadata": {},
   "source": [
    " # Python List extend()\n",
    " \n",
    " \n",
    "#The extend() method adds all the elements of an iterable (list, tuple, string etc.) to the end of the list"
   ]
  },
  {
   "cell_type": "code",
   "execution_count": null,
   "id": "236136c9",
   "metadata": {},
   "outputs": [],
   "source": []
  }
 ],
 "metadata": {
  "kernelspec": {
   "display_name": "Python 3 (ipykernel)",
   "language": "python",
   "name": "python3"
  },
  "language_info": {
   "codemirror_mode": {
    "name": "ipython",
    "version": 3
   },
   "file_extension": ".py",
   "mimetype": "text/x-python",
   "name": "python",
   "nbconvert_exporter": "python",
   "pygments_lexer": "ipython3",
   "version": "3.7.10"
  }
 },
 "nbformat": 4,
 "nbformat_minor": 5
}
