{
 "cells": [
  {
   "cell_type": "markdown",
   "id": "e07c90a7",
   "metadata": {},
   "source": [
    "# Decorators in Python are essentially functions that add functionality to an existing function in Python without changing the structure of the function itself"
   ]
  },
  {
   "cell_type": "code",
   "execution_count": null,
   "id": "90cf6e8f",
   "metadata": {},
   "outputs": [],
   "source": [
    "def lower_decorator(function):  # here function is the parameter on which we want to use decorator\n",
    "    def wrapper():     #it is the wrapper function that is applied all methods or desired process it also takes argument\n",
    "        func = function()\n",
    "        string_lower_case = func.lower()\n",
    "        return string_lower_case\n",
    "    return wrapper"
   ]
  },
  {
   "cell_type": "code",
   "execution_count": 10,
   "id": "b2316ff6",
   "metadata": {},
   "outputs": [],
   "source": [
    "def lower_decorator(function):\n",
    "    def wrapper():\n",
    "        func = function()\n",
    "        string_lower_case = func.lower()\n",
    "        return string_lower_case\n",
    "    return wrapper"
   ]
  },
  {
   "cell_type": "code",
   "execution_count": 11,
   "id": "deca0f5c",
   "metadata": {},
   "outputs": [],
   "source": [
    "def Name_Age():\n",
    "    return \"Deepak's Age 12\""
   ]
  },
  {
   "cell_type": "code",
   "execution_count": 12,
   "id": "3fa4c834",
   "metadata": {},
   "outputs": [
    {
     "name": "stdout",
     "output_type": "stream",
     "text": [
      "Deepak's Age 12\n"
     ]
    }
   ],
   "source": [
    "print(Name_Age())"
   ]
  },
  {
   "cell_type": "code",
   "execution_count": 13,
   "id": "d345410c",
   "metadata": {},
   "outputs": [],
   "source": [
    "@lower_decorator\n",
    "def Name_Age():\n",
    "    return \"Deepak's Age 12\"\n"
   ]
  },
  {
   "cell_type": "code",
   "execution_count": 14,
   "id": "c98bd4a7",
   "metadata": {},
   "outputs": [
    {
     "name": "stdout",
     "output_type": "stream",
     "text": [
      "deepak's age 12\n"
     ]
    }
   ],
   "source": [
    "print(Name_Age())"
   ]
  },
  {
   "cell_type": "code",
   "execution_count": null,
   "id": "04f1a87f",
   "metadata": {},
   "outputs": [],
   "source": [
    "def lower_decorator(function):  # here function is the parameter on which we want to use decorator\n",
    "    def wrapper(arg1,arg2):\n",
    "        arg1_lower = arg1.lower()\n",
    "        arg2_lower = arg2.lower()\n",
    "        func = function(arg1_lower,arg2_lower)\n",
    "      \n",
    "        return func\n",
    "    return wrapper"
   ]
  }
 ],
 "metadata": {
  "kernelspec": {
   "display_name": "Python 3 (ipykernel)",
   "language": "python",
   "name": "python3"
  },
  "language_info": {
   "codemirror_mode": {
    "name": "ipython",
    "version": 3
   },
   "file_extension": ".py",
   "mimetype": "text/x-python",
   "name": "python",
   "nbconvert_exporter": "python",
   "pygments_lexer": "ipython3",
   "version": "3.7.10"
  }
 },
 "nbformat": 4,
 "nbformat_minor": 5
}
