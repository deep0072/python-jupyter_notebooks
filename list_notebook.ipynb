{
 "cells": [
  {
   "cell_type": "markdown",
   "id": "9639bc89",
   "metadata": {},
   "source": [
    "#    The key difference between the tuples and lists \n",
    "\n",
    "**that while the tuples are immutable objects the lists are mutable.**\n",
    "\n",
    "**This means that tuples cannot be changed while the lists can be modified.**\n",
    "    \n",
    "**Tuples are more memory efficient than the lists.**\n",
    "    \n",
    "    \n",
    "**When it comes to the time efficiency, again tuples have a slight advantage over the lists especially when lookup to a value is considered.**\n",
    "   \n",
    "   \n",
    "**If you have data which is not meant to be changed in the first place, you should choose tuple data type over lists.**"
   ]
  },
  {
   "cell_type": "code",
   "execution_count": null,
   "id": "65e81617",
   "metadata": {},
   "outputs": [],
   "source": []
  },
  {
   "cell_type": "code",
   "execution_count": null,
   "id": "bc3abec9",
   "metadata": {},
   "outputs": [],
   "source": []
  },
  {
   "cell_type": "code",
   "execution_count": null,
   "id": "5ced9924",
   "metadata": {},
   "outputs": [],
   "source": []
  },
  {
   "cell_type": "code",
   "execution_count": null,
   "id": "7d2e6804",
   "metadata": {},
   "outputs": [],
   "source": []
  },
  {
   "cell_type": "markdown",
   "id": "915a7526",
   "metadata": {},
   "source": [
    "# list with its functions and methods"
   ]
  },
  {
   "cell_type": "code",
   "execution_count": 1,
   "id": "d5cd060b",
   "metadata": {},
   "outputs": [],
   "source": [
    "currencies = ['Dollar', 'Euro', 'Pound']"
   ]
  },
  {
   "cell_type": "markdown",
   "id": "4c16fb69",
   "metadata": {},
   "source": [
    " # append the item in list \n",
    " \n",
    " # Syntax of List append()\n",
    "\n",
    "#The syntax of the append() method is:\n",
    "\n",
    "# list.append(item)"
   ]
  },
  {
   "cell_type": "code",
   "execution_count": 6,
   "id": "7779d16d",
   "metadata": {},
   "outputs": [
    {
     "data": {
      "text/plain": [
       "['Dollar', 'Euro', 'Pound', 'Yen', 'Yen', 'Yen']"
      ]
     },
     "execution_count": 6,
     "metadata": {},
     "output_type": "execute_result"
    }
   ],
   "source": [
    "currencies.append('Yen')\n",
    "currencies"
   ]
  },
  {
   "cell_type": "markdown",
   "id": "cf6c3997",
   "metadata": {},
   "source": [
    "# Python List index()\n",
    "\n",
    "#index () method returns the index of the specified element in the list.\n",
    "\n",
    "# Syntax of List index()\n",
    "\n",
    "\n",
    "\n",
    "# list.index(element, start, end)"
   ]
  },
  {
   "cell_type": "code",
   "execution_count": 8,
   "id": "9e84bb71",
   "metadata": {},
   "outputs": [
    {
     "data": {
      "text/plain": [
       "1"
      ]
     },
     "execution_count": 8,
     "metadata": {},
     "output_type": "execute_result"
    }
   ],
   "source": [
    "animals = ['cat', 'dog', 'rabbit', 'horse']\n",
    "\n",
    "# get the index of 'dog'\n",
    "index = animals.index('dog')\n",
    "index"
   ]
  },
  {
   "cell_type": "code",
   "execution_count": 9,
   "id": "ae417db4",
   "metadata": {},
   "outputs": [
    {
     "name": "stdout",
     "output_type": "stream",
     "text": [
      "The index of e: 1\n",
      "The index of i: 6\n"
     ]
    },
    {
     "ename": "ValueError",
     "evalue": "'i' is not in list",
     "output_type": "error",
     "traceback": [
      "\u001b[1;31m---------------------------------------------------------------------------\u001b[0m",
      "\u001b[1;31mValueError\u001b[0m                                Traceback (most recent call last)",
      "\u001b[1;32m~\\AppData\\Local\\Temp/ipykernel_19068/3041137897.py\u001b[0m in \u001b[0;36m<module>\u001b[1;34m\u001b[0m\n\u001b[0;32m     13\u001b[0m \u001b[1;33m\u001b[0m\u001b[0m\n\u001b[0;32m     14\u001b[0m \u001b[1;31m# 'i' between 3rd and 5th index is searched\u001b[0m\u001b[1;33m\u001b[0m\u001b[1;33m\u001b[0m\u001b[1;33m\u001b[0m\u001b[0m\n\u001b[1;32m---> 15\u001b[1;33m \u001b[0mindex\u001b[0m \u001b[1;33m=\u001b[0m \u001b[0malphabets\u001b[0m\u001b[1;33m.\u001b[0m\u001b[0mindex\u001b[0m\u001b[1;33m(\u001b[0m\u001b[1;34m'i'\u001b[0m\u001b[1;33m,\u001b[0m \u001b[1;36m3\u001b[0m\u001b[1;33m,\u001b[0m \u001b[1;36m5\u001b[0m\u001b[1;33m)\u001b[0m   \u001b[1;31m# Error!\u001b[0m\u001b[1;33m\u001b[0m\u001b[1;33m\u001b[0m\u001b[0m\n\u001b[0m\u001b[0;32m     16\u001b[0m \u001b[1;33m\u001b[0m\u001b[0m\n\u001b[0;32m     17\u001b[0m \u001b[0mprint\u001b[0m\u001b[1;33m(\u001b[0m\u001b[1;34m'The index of i:'\u001b[0m\u001b[1;33m,\u001b[0m \u001b[0mindex\u001b[0m\u001b[1;33m)\u001b[0m\u001b[1;33m\u001b[0m\u001b[1;33m\u001b[0m\u001b[0m\n",
      "\u001b[1;31mValueError\u001b[0m: 'i' is not in list"
     ]
    }
   ],
   "source": [
    "# alphabets list\n",
    "alphabets = ['a', 'e', 'i', 'o', 'g', 'l', 'i', 'u']\n",
    "\n",
    "# index of 'i' in alphabets\n",
    "index = alphabets.index('e')   # 1\n",
    "\n",
    "print('The index of e:', index)\n",
    "\n",
    "# 'i' after the 4th index is searched\n",
    "index = alphabets.index('i', 4)   # 6\n",
    "\n",
    "print('The index of i:', index)\n",
    "\n",
    "# 'i' between 3rd and 5th index is searched\n",
    "index = alphabets.index('i', 3, 5)   # Error!\n",
    "\n",
    "print('The index of i:', index)\n",
    "\n",
    "\n",
    "\n",
    "\n",
    "\n",
    "\n",
    "\n",
    "\n",
    "\n",
    "\n",
    "\n"
   ]
  },
  {
   "cell_type": "markdown",
   "id": "1faa116a",
   "metadata": {},
   "source": [
    " # Python List extend()\n",
    " \n",
    " \n",
    "#The extend() method adds all the elements of an iterable (list, tuple, string etc.) to the end of the list\n",
    "\n",
    "#it can add more than one element in list\n",
    "\n",
    "# Syntax of List extend()\n",
    "\n",
    "\n",
    "# list1.extend(iterable)"
   ]
  },
  {
   "cell_type": "code",
   "execution_count": 10,
   "id": "9ee9a3dd",
   "metadata": {
    "scrolled": true
   },
   "outputs": [
    {
     "name": "stdout",
     "output_type": "stream",
     "text": [
      "List after extend(): [1, 4, 2, 3, 5]\n"
     ]
    }
   ],
   "source": [
    "# create a list\n",
    "prime_numbers = [2, 3, 5]\n",
    "\n",
    "# create another list\n",
    "numbers = [1, 4]\n",
    "\n",
    "# add all elements of prime_numbers to numbers\n",
    "numbers.extend(prime_numbers)\n",
    "\n",
    "\n",
    "print('List after extend():', numbers)\n",
    "\n",
    "    # Output: List after extend(): [1, 4, 2, 3, 5]"
   ]
  },
  {
   "cell_type": "markdown",
   "id": "a1c3d891",
   "metadata": {},
   "source": [
    "# List insert()\n",
    "\n",
    "#The insert() method inserts an element to the list at the specified index\n",
    "\n",
    "# Syntax of List insert()\n",
    "# list.insert(i, elem)"
   ]
  },
  {
   "cell_type": "code",
   "execution_count": 2,
   "id": "82dd4663",
   "metadata": {},
   "outputs": [
    {
     "name": "stdout",
     "output_type": "stream",
     "text": [
      "List: ['a', 'e', 'i', 'o', 'u']\n"
     ]
    }
   ],
   "source": [
    "# create a list of vowels\n",
    "vowel = ['a', 'e', 'i', 'u']\n",
    "\n",
    "# 'o' is inserted at index 3 (4th position)\n",
    "vowel.insert(3, 'o')\n",
    "\n",
    "\n",
    "print('List:', vowel)\n",
    "\n",
    "# Output: List: ['a', 'e', 'i', 'o', 'u']"
   ]
  },
  {
   "cell_type": "markdown",
   "id": "344da94d",
   "metadata": {},
   "source": [
    "# List remove()\n",
    "\n",
    "#the remove() method removes the first matching element (which is passed as an argument) from the list.\n",
    "\n",
    "\n",
    "# Return Value from remove()\n",
    "\n",
    "#The remove() doesn't return any value (returns None).\n",
    "\n",
    "# Syntax of List remove()\n",
    "\n",
    "\n",
    "# list.remove(element)"
   ]
  },
  {
   "cell_type": "code",
   "execution_count": 4,
   "id": "4927155d",
   "metadata": {},
   "outputs": [
    {
     "name": "stdout",
     "output_type": "stream",
     "text": [
      "Updated List:  [2, 3, 5, 7, 11, 9]\n"
     ]
    }
   ],
   "source": [
    "# create a list\n",
    "prime_numbers = [2, 3, 5, 7, 9, 11,9]\n",
    "\n",
    "# remove 9 from the list\n",
    "prime_numbers.remove(9)\n",
    "\n",
    "\n",
    "# Updated prime_numbers List\n",
    "print('Updated List: ', prime_numbers)\n",
    "\n",
    "# Output: Updated List:  [2, 3, 5, 7, 11]"
   ]
  },
  {
   "cell_type": "markdown",
   "id": "32462f73",
   "metadata": {},
   "source": [
    "# Python List count()\n",
    "\n",
    "#The count() method returns the number of times the specified element appears in the list.\n",
    "\n",
    "# syntax   list.count(element)\n"
   ]
  },
  {
   "cell_type": "code",
   "execution_count": 5,
   "id": "5186e436",
   "metadata": {},
   "outputs": [
    {
     "name": "stdout",
     "output_type": "stream",
     "text": [
      "Count of 2: 3\n"
     ]
    }
   ],
   "source": [
    "# create a list\n",
    "numbers = [2, 3, 5, 2, 11, 2, 7]\n",
    "\n",
    "# check the count of 2\n",
    "count = numbers.count(2)\n",
    "\n",
    "\n",
    "print('Count of 2:', count)\n",
    "\n",
    "# Output: Count of 2: 3"
   ]
  },
  {
   "cell_type": "markdown",
   "id": "3d144d39",
   "metadata": {},
   "source": [
    "# Python List pop()\n",
    "\n",
    "#The pop() method removes the item at the given index from the list and returns the removed item\n",
    "\n",
    "\n",
    "# Syntax of List pop()\n",
    "\n",
    "#list.pop(index)\n",
    "\n",
    "\n",
    "\n",
    "\n",
    "# pop() parameters\n",
    "\n",
    "    The pop() method takes a single argument (index).\n",
    "    \n",
    "    The argument passed to the method is optional. If not passed, the default index -1 is passed as an argument (index of the       last item).\n",
    "    \n",
    "    If the index passed to the method is not in range, it throws IndexError: pop index out of range exception\n"
   ]
  },
  {
   "cell_type": "code",
   "execution_count": 8,
   "id": "dc19ffe8",
   "metadata": {},
   "outputs": [
    {
     "name": "stdout",
     "output_type": "stream",
     "text": [
      "Return Value: French\n",
      "Updated List: ['Python', 'Java', 'C++', 'C']\n",
      "Return Value: C\n"
     ]
    }
   ],
   "source": [
    "# programming languages list\n",
    "languages = ['Python', 'Java', 'C++', 'French', 'C']\n",
    "\n",
    "# remove and return the 4th item\n",
    "return_value = languages.pop(3)\n",
    "\n",
    "print('Return Value:', return_value)\n",
    "\n",
    "# Updated List\n",
    "print('Updated List:', languages)\n",
    "\n",
    "# pop method wihtout passing any argument remove the lst elemt from list\n",
    "return_value = languages.pop()\n",
    "\n",
    "print('Return Value:', return_value)\n",
    "\n"
   ]
  },
  {
   "cell_type": "markdown",
   "id": "9cb8fe06",
   "metadata": {},
   "source": [
    "# List reverse()\n",
    "\n",
    "#The reverse() method reverses the elements of the list\n",
    "\n",
    "# Syntax of List reverse()\n",
    "\n",
    "The syntax of the reverse() method is:\n",
    "\n",
    "# list.reverse()"
   ]
  },
  {
   "cell_type": "code",
   "execution_count": 9,
   "id": "814909b6",
   "metadata": {},
   "outputs": [
    {
     "name": "stdout",
     "output_type": "stream",
     "text": [
      "Reversed List: [7, 5, 3, 2]\n"
     ]
    }
   ],
   "source": [
    "# create a list of prime numbers\n",
    "prime_numbers = [2, 3, 5, 7]\n",
    "\n",
    "# reverse the order of list elements\n",
    "prime_numbers.reverse()\n",
    "\n",
    "\n",
    "print('Reversed List:', prime_numbers)\n",
    "\n",
    "# Output: Reversed List: [7, 5, 3, 2]"
   ]
  },
  {
   "cell_type": "markdown",
   "id": "551fbc82",
   "metadata": {},
   "source": [
    "# Python List sort()\n",
    "\n",
    "#The sort() method sorts the elements of a given list in a specific ascending or descending order\n",
    "\n",
    "# sort() Syntax\n",
    "\n",
    "The syntax of the sort() method is:\n",
    "\n",
    "# list.sort(key=..., reverse=...)"
   ]
  },
  {
   "cell_type": "code",
   "execution_count": 10,
   "id": "c51862cd",
   "metadata": {},
   "outputs": [
    {
     "name": "stdout",
     "output_type": "stream",
     "text": [
      "Sorted list: ['a', 'e', 'i', 'o', 'u']\n"
     ]
    }
   ],
   "source": [
    "# vowels list\n",
    "vowels = ['e', 'a', 'u', 'o', 'i']\n",
    "\n",
    "# sort the vowels\n",
    "vowels.sort()\n",
    "\n",
    "# print vowels\n",
    "print('Sorted list:', vowels)"
   ]
  },
  {
   "cell_type": "markdown",
   "id": "a54ff4a0",
   "metadata": {},
   "source": [
    "# Sort in Descending order\n",
    "\n",
    "# list.sort(reverse=True)"
   ]
  },
  {
   "cell_type": "code",
   "execution_count": 11,
   "id": "00191c51",
   "metadata": {},
   "outputs": [
    {
     "name": "stdout",
     "output_type": "stream",
     "text": [
      "Sorted list (in Descending): ['u', 'o', 'i', 'e', 'a']\n"
     ]
    }
   ],
   "source": [
    "# vowels list\n",
    "vowels = ['e', 'a', 'u', 'o', 'i']\n",
    "\n",
    "# sort the vowels\n",
    "vowels.sort(reverse=True)\n",
    "\n",
    "# print vowels\n",
    "print('Sorted list (in Descending):', vowels)"
   ]
  },
  {
   "cell_type": "markdown",
   "id": "4c4dd32e",
   "metadata": {},
   "source": [
    "# List copy()\n",
    "\n",
    "#The copy() method returns a shallow copy of the list\n",
    "\n",
    "\n",
    "# copy() Syntax\n",
    "\n",
    "The syntax of the copy() method is:\n",
    "\n",
    "# new_list = list.copy()\n"
   ]
  },
  {
   "cell_type": "code",
   "execution_count": 12,
   "id": "b9768e1c",
   "metadata": {},
   "outputs": [
    {
     "name": "stdout",
     "output_type": "stream",
     "text": [
      "Copied List: [2, 3, 5]\n"
     ]
    }
   ],
   "source": [
    "# mixed list\n",
    "prime_numbers = [2, 3, 5]\n",
    "\n",
    "# copying a list\n",
    "numbers = prime_numbers.copy()\n",
    "\n",
    "\n",
    "print('Copied List:', numbers)\n",
    "\n",
    "# Output: Copied List: [2, 3, 5]"
   ]
  },
  {
   "cell_type": "markdown",
   "id": "fa8844fc",
   "metadata": {},
   "source": [
    "# List copy using =\n"
   ]
  },
  {
   "cell_type": "code",
   "execution_count": 13,
   "id": "f73deb7e",
   "metadata": {},
   "outputs": [
    {
     "name": "stdout",
     "output_type": "stream",
     "text": [
      "New List: [1, 2, 3, 'a']\n",
      "Old List: [1, 2, 3, 'a']\n"
     ]
    }
   ],
   "source": [
    "old_list = [1, 2, 3]\n",
    "\n",
    "# copy list using =\n",
    "new_list = old_list\n",
    "\n",
    "\n",
    "# add an element to list\n",
    "new_list.append('a')\n",
    "\n",
    "print('New List:', new_list)\n",
    "print('Old List:', old_list)"
   ]
  },
  {
   "cell_type": "markdown",
   "id": "c2a4222c",
   "metadata": {},
   "source": [
    "# Copy List Using Slicing Syntax"
   ]
  },
  {
   "cell_type": "code",
   "execution_count": 14,
   "id": "f17878f1",
   "metadata": {},
   "outputs": [
    {
     "name": "stdout",
     "output_type": "stream",
     "text": [
      "Old List: ['cat', 0, 6.7]\n",
      "New List: ['cat', 0, 6.7, 'dog']\n"
     ]
    }
   ],
   "source": [
    "# shallow copy using the slicing syntax\n",
    "\n",
    "# mixed list\n",
    "list = ['cat', 0, 6.7]\n",
    "\n",
    "# copying a list using slicing\n",
    "new_list = list[:]\n",
    "\n",
    "\n",
    "# Adding an element to the new list\n",
    "new_list.append('dog')\n",
    "\n",
    "# Printing new and old list\n",
    "print('Old List:', list)\n",
    "print('New List:', new_list)"
   ]
  },
  {
   "cell_type": "markdown",
   "id": "aa78c123",
   "metadata": {},
   "source": [
    "# List clear()\n",
    "\n",
    "#The clear() method removes all items from the list"
   ]
  },
  {
   "cell_type": "code",
   "execution_count": 15,
   "id": "f4169948",
   "metadata": {},
   "outputs": [
    {
     "name": "stdout",
     "output_type": "stream",
     "text": [
      "List after clear(): []\n"
     ]
    }
   ],
   "source": [
    "prime_numbers = [2, 3, 5, 7, 9, 11]\n",
    "\n",
    "# remove all elements\n",
    "prime_numbers.clear()\n",
    "\n",
    "# Updated prime_numbers List\n",
    "print('List after clear():', prime_numbers)\n",
    "\n",
    "\n",
    "# Output: List after clear(): []"
   ]
  },
  {
   "cell_type": "code",
   "execution_count": null,
   "id": "fa4b402a",
   "metadata": {},
   "outputs": [],
   "source": []
  }
 ],
 "metadata": {
  "kernelspec": {
   "display_name": "Python 3 (ipykernel)",
   "language": "python",
   "name": "python3"
  },
  "language_info": {
   "codemirror_mode": {
    "name": "ipython",
    "version": 3
   },
   "file_extension": ".py",
   "mimetype": "text/x-python",
   "name": "python",
   "nbconvert_exporter": "python",
   "pygments_lexer": "ipython3",
   "version": "3.7.10"
  }
 },
 "nbformat": 4,
 "nbformat_minor": 5
}
